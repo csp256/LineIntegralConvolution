{
 "metadata": {
  "name": "",
  "signature": "sha256:5991a3d43bf0e3c83c89e0d951c48b071c5577c3ae47dd2eb389e29617075ac2"
 },
 "nbformat": 3,
 "nbformat_minor": 0,
 "worksheets": [
  {
   "cells": [
    {
     "cell_type": "heading",
     "level": 1,
     "metadata": {},
     "source": [
      "Common code"
     ]
    },
    {
     "cell_type": "code",
     "collapsed": false,
     "input": [
      "from SALib.sample import saltelli\n",
      "from SALib.analyze import sobol\n",
      "from SALib.test_functions import Ishigami\n",
      "import math\n",
      "import h5py\n",
      "import numpy as np\n",
      "from scipy import interpolate\n",
      "import matplotlib.pyplot as plt"
     ],
     "language": "python",
     "metadata": {},
     "outputs": [],
     "prompt_number": 1
    },
    {
     "cell_type": "markdown",
     "metadata": {},
     "source": [
      "You can/should run the library code (at the end of the document) now."
     ]
    },
    {
     "cell_type": "code",
     "collapsed": false,
     "input": [
      "isabel = True\n",
      "if (isabel):\n",
      "    f = h5py.File(\"C:\\Users\\Chris\\Desktop\\UNIK4660\\LineIntegralConvolution\\data\\isabel_2d.h5\", \"r\")\n",
      "    y = f['Velocity/X-comp'][:] # Poor man's transformation from left to right handed coordinate systems\n",
      "    x = f['Velocity/Y-comp'][:] \n",
      "else:\n",
      "    f = h5py.File(\"C:\\Users\\Chris\\Desktop\\UNIK4660\\LineIntegralConvolution\\data\\metsim1_2d.h5\", \"r\")\n",
      "    x = f['Velocity/X-comp'][:] # Already in correct coordinate system\n",
      "    y = f['Velocity/Y-comp'][:] \n",
      "\n",
      "s = np.sqrt(x*x+y*y)\n",
      "width = len(x)\n",
      "height = len(y)\n",
      "mask = np.zeros((width,height))\n",
      "mask[np.nonzero(s)] = 1.0\n",
      "invMask = np.add(-1. * mask, 1.) # for some reason using np.zeros() throws an error\n",
      "f.close()"
     ],
     "language": "python",
     "metadata": {},
     "outputs": [],
     "prompt_number": 2
    },
    {
     "cell_type": "code",
     "collapsed": false,
     "input": [
      "rx = np.arange(0,width,1)\n",
      "ry = np.arange(0,height,1)\n",
      "\n",
      "cubicInterpolation = False\n",
      "if (cubicInterpolation):\n",
      "    X = interpolate.interp2d(rx,ry,x,kind='cubic')\n",
      "    Y = interpolate.interp2d(rx,ry,y,kind='cubic') \n",
      "else:\n",
      "    X = interpolate.interp2d(rx,ry,x,kind='linear')\n",
      "    Y = interpolate.interp2d(rx,ry,y,kind='linear') "
     ],
     "language": "python",
     "metadata": {},
     "outputs": [],
     "prompt_number": 3
    },
    {
     "cell_type": "heading",
     "level": 1,
     "metadata": {},
     "source": [
      "Streamlines"
     ]
    },
    {
     "cell_type": "code",
     "collapsed": false,
     "input": [
      "def EulerLine(init, X, Y, h=1.0, xsize=500, ysize=500, maxIterations=100):\n",
      "    line = np.array([init[0], init[1]])\n",
      "    line.shape = (2,1)\n",
      "    curr = init.copy()\n",
      "    x = X(curr[0],curr[1])\n",
      "    y = Y(curr[0],curr[1])\n",
      "    magnitude = math.sqrt(x*x + y*y)\n",
      "    \n",
      "    iteration = 0\n",
      "    while (0 < curr[0] and curr[0] < xsize and 0 < curr[1] and curr[1] < ysize and iteration < maxIterations and magnitude != 0):\n",
      "        scale = h / magnitude\n",
      "        dx = x*scale\n",
      "        dy = y*scale\n",
      "        if abs(h+h) < abs(dx) or abs(h+h) < abs(dy):\n",
      "            return np.reshape(line, (line.shape[0] / 2, 2))\n",
      "        curr = np.array([curr[0] + dx, curr[1] + dy])\n",
      "        \n",
      "        line = np.vstack((line, curr))\n",
      "        iteration += 1\n",
      "        x = X(curr[0],curr[1])\n",
      "        y = Y(curr[0],curr[1])\n",
      "    return np.reshape(line, (line.shape[0] / 2, 2))"
     ],
     "language": "python",
     "metadata": {},
     "outputs": [],
     "prompt_number": 5
    },
    {
     "cell_type": "code",
     "collapsed": false,
     "input": [
      "plt.clf()\n",
      "h = 1.0\n",
      "\n",
      "pointsExp = 8 # Should be divisible by the dimensions (2)\n",
      "for k in range(0,2**pointsExp):\n",
      "    pos = width*i4_sobol(2,k)[0] # implicitly assumes square image [easy to fix if need be]\n",
      "    if (mask[np.floor(pos[0]),np.floor(pos[1])] == 1.):\n",
      "        line1 = EulerLine(pos, X, Y, h, maxIterations=100)\n",
      "        line2 = EulerLine(pos, X, Y, -h, maxIterations=100)\n",
      "        plt.plot(line1[:,0], line1[:,1], 'w-', alpha = 0.5)\n",
      "        plt.plot(line2[:,0], line2[:,1], 'w-', alpha = 0.5)\n",
      "\n",
      "im = plt.imshow(s, alpha = 0.9)\n",
      "plt.show()"
     ],
     "language": "python",
     "metadata": {},
     "outputs": [],
     "prompt_number": 6
    },
    {
     "cell_type": "heading",
     "level": 1,
     "metadata": {},
     "source": [
      "Line integral convolution"
     ]
    },
    {
     "cell_type": "heading",
     "level": 3,
     "metadata": {},
     "source": [
      "Function declarations. "
     ]
    },
    {
     "cell_type": "code",
     "collapsed": false,
     "input": [
      "def RK(curr, X, Y, h=1.0):\n",
      "    curr = np.reshape(curr, (2,)) # Because I'm tired of fighting with numpy... \n",
      "    k1 = np.reshape(EulerStep(curr,X,Y,h), (2,)) # ...reshapes everywhere...\n",
      "    k2 = np.reshape(EulerStep(np.add(curr,k1)*0.5, X, Y, h*0.5), (2,))\n",
      "    k3 = np.reshape(EulerStep(np.add(curr,k2)*0.5, X, Y, h*0.5), (2,))\n",
      "    k4 = np.reshape(EulerStep(k3, X, Y, h), (2,))\n",
      "    return np.reshape((k1 + 2*k2 + 2*k3 + k4) / 6, (2,1)) # everywhere."
     ],
     "language": "python",
     "metadata": {},
     "outputs": [],
     "prompt_number": 7
    },
    {
     "cell_type": "code",
     "collapsed": false,
     "input": [
      "def EulerStep(curr, X, Y, h=1.0):\n",
      "    if (not inBounds(curr[0], curr[1])): # like propogating a NaN\n",
      "        return curr.copy() # not in bounds --> next point wont be in bounds either!\n",
      "    x = X(curr[0],curr[1])\n",
      "    y = Y(curr[0],curr[1])\n",
      "    magnitude = math.sqrt(x*x + y*y)\n",
      "\n",
      "    if (magnitude != 0):\n",
      "        scale = h / magnitude\n",
      "        dx = x*scale\n",
      "        dy = y*scale\n",
      "        return np.array([curr[0] + dx, curr[1] + dy]) # success!\n",
      "    return np.reshape(np.array([-1.,-1.]), (2,1)) # magnitude was 0 sadface"
     ],
     "language": "python",
     "metadata": {},
     "outputs": [],
     "prompt_number": 8
    },
    {
     "cell_type": "code",
     "collapsed": false,
     "input": [
      "def inBounds(x, y):\n",
      "    return (0<=x and x<width and 0<=y and y<height)"
     ],
     "language": "python",
     "metadata": {},
     "outputs": [],
     "prompt_number": 9
    },
    {
     "cell_type": "code",
     "collapsed": false,
     "input": [
      "def streamline(p):\n",
      "    useRK = False\n",
      "    path = np.reshape(np.array([p[0],p[1]]), (2,1))\n",
      "    f = np.array([p[0],p[1]]) # position along forward direction\n",
      "    r = np.array([p[0],p[1]]) # position along reverse direction\n",
      "    \n",
      "    for i in range(L+M): \n",
      "        if (useRK):\n",
      "            f = RK(f, X, Y,  h) \n",
      "            r = RK(r, X, Y, -h)     \n",
      "        else:\n",
      "            f = EulerStep(f, X, Y,  h) \n",
      "            r = EulerStep(r, X, Y, -h) \n",
      "        path = np.hstack((r, path, f))\n",
      "\n",
      "    return np.floor(path) # return actual pixel indices (integers)"
     ],
     "language": "python",
     "metadata": {},
     "outputs": [],
     "prompt_number": 10
    },
    {
     "cell_type": "code",
     "collapsed": false,
     "input": [
      "def integrate(line):    \n",
      "    l = line.shape[1] \n",
      "    mid = (l // 2) + offset # offset should be 0\n",
      "    x0 = line[0][mid]\n",
      "    y0 = line[1][mid]\n",
      "    k = 1 # number of hits \n",
      "    \n",
      "    # integral at streamline center\n",
      "    integral0 = 0.0\n",
      "    for i in range(-L, L+1): # might actually need a n+1 on the end to hit the whole path\n",
      "        x = line[0][mid + i]\n",
      "        y = line[1][mid + i]\n",
      "        if (inBounds(x,y)):\n",
      "            k += 1\n",
      "            integral0 += noise[x,y] # x,y guaranteed to be integers by return statement of streamline()\n",
      "    integral0 /= k # normalize by number of hits you actually got [shouldnt this be exactly 0.5 in the infinite limit?]\n",
      "            \n",
      "    integral[line[0][mid], line[1][mid]] += integral0\n",
      "    numHits [line[0][mid], line[1][mid]] += 1\n",
      "    \n",
      "    fwdIntegral = integral0 # simple boxcar convolution\n",
      "    revIntegral = integral0\n",
      "    \n",
      "    for i in range(1, M):\n",
      "        centerIndex = i + mid\n",
      "        leadingEdgeIndex = centerIndex + (L+1)\n",
      "        trailingEdgeIndex = centerIndex - L\n",
      "        \n",
      "        centerX = line[0][centerIndex]\n",
      "        centerY = line[1][centerIndex]\n",
      "        leadingEdgeX = line[0][leadingEdgeIndex]\n",
      "        leadingEdgeY = line[1][leadingEdgeIndex]\n",
      "        trailingEdgeX = line[0][trailingEdgeIndex]\n",
      "        trailingEdgeY = line[1][trailingEdgeIndex]\n",
      "        \n",
      "        if (0 <= trailingEdgeIndex and leadingEdgeIndex < line.shape[1]):\n",
      "            if (inBounds(leadingEdgeX, leadingEdgeY) and inBounds(trailingEdgeX, trailingEdgeY)):\n",
      "                fwdIntegral += (noise[leadingEdgeX, leadingEdgeY] - noise[trailingEdgeX, trailingEdgeY]) / k\n",
      "                integral[centerX, centerY] += fwdIntegral\n",
      "                numHits[centerX, centerY] += 1\n",
      "\n",
      "        # now do the reverse\n",
      "        centerIndex = -i + mid\n",
      "        leadingEdgeIndex = centerIndex - (L+1)\n",
      "        trailingEdgeIndex = centerIndex + L\n",
      "        \n",
      "        centerX = line[0][centerIndex]\n",
      "        centerY = line[1][centerIndex]\n",
      "        leadingEdgeX = line[0][leadingEdgeIndex]\n",
      "        leadingEdgeY = line[1][leadingEdgeIndex]\n",
      "        trailingEdgeX = line[0][trailingEdgeIndex]\n",
      "        trailingEdgeY = line[1][trailingEdgeIndex]\n",
      "        \n",
      "        if (0 <= trailingEdgeIndex and leadingEdgeIndex < line.shape[1]):\n",
      "            if (inBounds(trailingEdgeX,trailingEdgeY) and inBounds(leadingEdgeX,leadingEdgeY)):\n",
      "                revIntegral += (noise[leadingEdgeX, leadingEdgeY] - noise[trailingEdgeX, trailingEdgeY]) / k\n",
      "                integral[centerX, centerY] += revIntegral\n",
      "                numHits[centerX, centerY] += 1"
     ],
     "language": "python",
     "metadata": {},
     "outputs": [],
     "prompt_number": 11
    },
    {
     "cell_type": "code",
     "collapsed": false,
     "input": [
      "def insufficientHits(numHits, mask, minNumHits):\n",
      "    for i in range(0,width):\n",
      "        for j in range(0,height):\n",
      "            if (mask[j,i] == 1. and numHits[i,j] < minNumHits):\n",
      "                return True\n",
      "    return False"
     ],
     "language": "python",
     "metadata": {},
     "outputs": [],
     "prompt_number": 12
    },
    {
     "cell_type": "heading",
     "level": 3,
     "metadata": {},
     "source": [
      "Computing texture field."
     ]
    },
    {
     "cell_type": "code",
     "collapsed": false,
     "input": [
      "h = 1\n",
      "L = 3 # kernel width\n",
      "M = 10 # this is the \"useful width\" of the pathline approximating the streamline\n",
      "minNumHits = 1\n",
      "offset = 0\n",
      "integral = np.zeros((width, height))\n",
      "numHits = np.zeros((width, height))\n",
      "np.random.seed(0)\n",
      "noise = np.random.rand(width, height)\n",
      "\n",
      "halfWidth = width / 2\n",
      "halfHeight = height / 2\n",
      "\n",
      "exponent = 8 # Should be divisible by number of dimensions \n",
      "iterations = 16\n",
      "print \"Each low-discrepency pass has\",2**exponent,\"streamlines.\"\n",
      "for j in range(0, iterations):\n",
      "    print j,\"of\",iterations,\"initial, low-discrepency passes completed.\"\n",
      "    for i in range(0, 2**exponent):\n",
      "        pos = width*i4_sobol(2,i + j*(2**exponent))[0] # implicitly assumes square image [easy to fix if need be]\n",
      "        if (mask[pos[1],pos[0]] == 1. and numHits[np.floor(pos[0]), np.floor(pos[1])] < minNumHits):\n",
      "            line = streamline( pos )\n",
      "            integrate(line)\n",
      "print \"Total number of low-discrepency streamlines:\", iterations*(2**exponent)\n",
      "\n",
      "while insufficientHits(numHits, mask, minNumHits): #(np.amin(np.multiply(numHits), invMask) < minNumHits):\n",
      "    print \"Starting a complete-image pass.\"\n",
      "    perturbationX = np.random.random_sample()\n",
      "    perturbationY = np.random.random_sample()\n",
      "    for i in range(0,width):\n",
      "        if (i%(width//20)==(width//20 -1)): # updates given every 5% completed\n",
      "            print i,\"of\",width,\"rows completed.\"\n",
      "        for j in range(0,height):\n",
      "            if (mask[j,i] == 1. and numHits[i,j] < minNumHits  ):\n",
      "                integrate( streamline( np.array([i+perturbationX, j+perturbationY]) ) )\n",
      "\n",
      "print \"Normalizing...\"\n",
      "noHits = np.zeros((width,height))\n",
      "for i in range(0, width):\n",
      "    for j in range(0, height):\n",
      "        k = numHits[i,j]\n",
      "        if (k==0):\n",
      "            k += 1\n",
      "            numHits[i,j] += 1\n",
      "        integral[i,j] /= k \n",
      "print\n",
      "print \"Done.\"\n",
      "print \"Max integral\",np.amax(integral)\n",
      "print \"Max hits\", np.amax(numHits)"
     ],
     "language": "python",
     "metadata": {},
     "outputs": [
      {
       "output_type": "stream",
       "stream": "stdout",
       "text": [
        "Each low-discrepency pass has 256 streamlines.\n",
        "0 of 16 initial, low-discrepency passes completed.\n",
        "1"
       ]
      },
      {
       "output_type": "stream",
       "stream": "stdout",
       "text": [
        " of 16 initial, low-discrepency passes completed.\n",
        "2"
       ]
      },
      {
       "output_type": "stream",
       "stream": "stdout",
       "text": [
        " of 16 initial, low-discrepency passes completed.\n",
        "3"
       ]
      },
      {
       "output_type": "stream",
       "stream": "stdout",
       "text": [
        " of 16 initial, low-discrepency passes completed.\n",
        "4"
       ]
      },
      {
       "output_type": "stream",
       "stream": "stdout",
       "text": [
        " of 16 initial, low-discrepency passes completed.\n",
        "5"
       ]
      },
      {
       "output_type": "stream",
       "stream": "stdout",
       "text": [
        " of 16 initial, low-discrepency passes completed.\n",
        "6"
       ]
      },
      {
       "output_type": "stream",
       "stream": "stdout",
       "text": [
        " of 16 initial, low-discrepency passes completed.\n",
        "7"
       ]
      },
      {
       "output_type": "stream",
       "stream": "stdout",
       "text": [
        " of 16 initial, low-discrepency passes completed.\n",
        "8"
       ]
      },
      {
       "output_type": "stream",
       "stream": "stdout",
       "text": [
        " of 16 initial, low-discrepency passes completed.\n",
        "9"
       ]
      },
      {
       "output_type": "stream",
       "stream": "stdout",
       "text": [
        " of 16 initial, low-discrepency passes completed.\n",
        "10"
       ]
      },
      {
       "output_type": "stream",
       "stream": "stdout",
       "text": [
        " of 16 initial, low-discrepency passes completed.\n",
        "11"
       ]
      },
      {
       "output_type": "stream",
       "stream": "stdout",
       "text": [
        " of 16 initial, low-discrepency passes completed.\n",
        "12"
       ]
      },
      {
       "output_type": "stream",
       "stream": "stdout",
       "text": [
        " of 16 initial, low-discrepency passes completed.\n",
        "13"
       ]
      },
      {
       "output_type": "stream",
       "stream": "stdout",
       "text": [
        " of 16 initial, low-discrepency passes completed.\n",
        "14"
       ]
      },
      {
       "output_type": "stream",
       "stream": "stdout",
       "text": [
        " of 16 initial, low-discrepency passes completed.\n",
        "15"
       ]
      },
      {
       "output_type": "stream",
       "stream": "stdout",
       "text": [
        " of 16 initial, low-discrepency passes completed.\n",
        "Total number of low-discrepency streamlines:"
       ]
      },
      {
       "output_type": "stream",
       "stream": "stdout",
       "text": [
        " 4096\n",
        "Starting a complete-image pass.\n",
        "24"
       ]
      },
      {
       "output_type": "stream",
       "stream": "stdout",
       "text": [
        " of 500 rows completed.\n",
        "49"
       ]
      },
      {
       "output_type": "stream",
       "stream": "stdout",
       "text": [
        " of 500 rows completed.\n",
        "74"
       ]
      },
      {
       "output_type": "stream",
       "stream": "stdout",
       "text": [
        " of 500 rows completed.\n",
        "99"
       ]
      },
      {
       "output_type": "stream",
       "stream": "stdout",
       "text": [
        " of 500 rows completed.\n",
        "124"
       ]
      },
      {
       "output_type": "stream",
       "stream": "stdout",
       "text": [
        " of 500 rows completed.\n",
        "149"
       ]
      },
      {
       "output_type": "stream",
       "stream": "stdout",
       "text": [
        " of 500 rows completed.\n",
        "174"
       ]
      },
      {
       "output_type": "stream",
       "stream": "stdout",
       "text": [
        " of 500 rows completed.\n",
        "199"
       ]
      },
      {
       "output_type": "stream",
       "stream": "stdout",
       "text": [
        " of 500 rows completed.\n",
        "224"
       ]
      },
      {
       "output_type": "stream",
       "stream": "stdout",
       "text": [
        " of 500 rows completed.\n",
        "249"
       ]
      },
      {
       "output_type": "stream",
       "stream": "stdout",
       "text": [
        " of 500 rows completed.\n",
        "274"
       ]
      },
      {
       "output_type": "stream",
       "stream": "stdout",
       "text": [
        " of 500 rows completed.\n",
        "299"
       ]
      },
      {
       "output_type": "stream",
       "stream": "stdout",
       "text": [
        " of 500 rows completed.\n",
        "324"
       ]
      },
      {
       "output_type": "stream",
       "stream": "stdout",
       "text": [
        " of 500 rows completed.\n",
        "349"
       ]
      },
      {
       "output_type": "stream",
       "stream": "stdout",
       "text": [
        " of 500 rows completed.\n",
        "374"
       ]
      },
      {
       "output_type": "stream",
       "stream": "stdout",
       "text": [
        " of 500 rows completed.\n",
        "399"
       ]
      },
      {
       "output_type": "stream",
       "stream": "stdout",
       "text": [
        " of 500 rows completed.\n",
        "424"
       ]
      },
      {
       "output_type": "stream",
       "stream": "stdout",
       "text": [
        " of 500 rows completed.\n",
        "449"
       ]
      },
      {
       "output_type": "stream",
       "stream": "stdout",
       "text": [
        " of 500 rows completed.\n",
        "474"
       ]
      },
      {
       "output_type": "stream",
       "stream": "stdout",
       "text": [
        " of 500 rows completed.\n",
        "499"
       ]
      },
      {
       "output_type": "stream",
       "stream": "stdout",
       "text": [
        " of 500 rows completed.\n",
        "Normalizing..."
       ]
      },
      {
       "output_type": "stream",
       "stream": "stdout",
       "text": [
        "\n",
        "\n"
       ]
      },
      {
       "output_type": "stream",
       "stream": "stdout",
       "text": [
        "Done.\n",
        "Max integral 0.790239882305\n",
        "Max hits 14.0\n"
       ]
      }
     ],
     "prompt_number": 13
    },
    {
     "cell_type": "heading",
     "level": 3,
     "metadata": {},
     "source": [
      "Plotting."
     ]
    },
    {
     "cell_type": "code",
     "collapsed": false,
     "input": [
      "plt.clf()\n",
      "normalizedIntegral = np.transpose(integral) / np.amax(integral)\n",
      "shiftedIntegral = np.add(normalizedIntegral, +2.0) # lower values emphasize the texturing more. values in [0..2] seem good (at least).\n",
      "plt.imshow(np.multiply(shiftedIntegral, s), cmap = plt.cm.spectral)\n",
      "#plt.imshow(np.multiply(shiftedIntegral, 1.), cmap = plt.cm.spectral)\n",
      "plt.show()"
     ],
     "language": "python",
     "metadata": {},
     "outputs": [],
     "prompt_number": 15
    },
    {
     "cell_type": "heading",
     "level": 1,
     "metadata": {},
     "source": [
      "Library code."
     ]
    },
    {
     "cell_type": "markdown",
     "metadata": {},
     "source": [
      "Below is an implementation of Sobolev sequences. I did not make it. You can consider this the effective end of the document."
     ]
    },
    {
     "cell_type": "code",
     "collapsed": false,
     "input": [
      "\n",
      "\"\"\"\n",
      "  Licensing:\n",
      "    This code is distributed under the GNU LGPL license.\n",
      " \n",
      "  Authors:\n",
      "    Original FORTRAN77 version of i4_sobol by Bennett Fox.\n",
      "    MATLAB version by John Burkardt.\n",
      "    PYTHON version by Corrado Chisari\n",
      "\n",
      "    Original Python version of is_prime by Corrado Chisari\n",
      "\n",
      "    Original MATLAB versions of other functions by John Burkardt.\n",
      "    PYTHON versions by Corrado Chisari\n",
      "\n",
      "    Original code is available from http://people.sc.fsu.edu/~jburkardt/py_src/sobol/sobol.html\n",
      "\"\"\"\n",
      "\n",
      "import math\n",
      "import numpy\n",
      "\n",
      "__all__ = ['i4_bit_hi1', 'i4_bit_lo0', 'i4_sobol_generate', 'i4_sobol', 'i4_uniform', 'prime_ge', 'is_prime']\n",
      "\n",
      "def i4_bit_hi1 ( n ):\n",
      "  \"\"\"\n",
      "  i4_bit_hi1 returns the position of the high 1 bit base 2 in an integer.\n",
      "\n",
      "  Example:\n",
      "    +------+-------------+-----\n",
      "    |    N |      Binary | BIT\n",
      "    +------|-------------+-----\n",
      "    |    0 |           0 |   0\n",
      "    |    1 |           1 |   1\n",
      "    |    2 |          10 |   2\n",
      "    |    3 |          11 |   2\n",
      "    |    4 |         100 |   3\n",
      "    |    5 |         101 |   3\n",
      "    |    6 |         110 |   3\n",
      "    |    7 |         111 |   3\n",
      "    |    8 |        1000 |   4\n",
      "    |    9 |        1001 |   4\n",
      "    |   10 |        1010 |   4\n",
      "    |   11 |        1011 |   4\n",
      "    |   12 |        1100 |   4\n",
      "    |   13 |        1101 |   4\n",
      "    |   14 |        1110 |   4\n",
      "    |   15 |        1111 |   4\n",
      "    |   16 |       10000 |   5\n",
      "    |   17 |       10001 |   5\n",
      "    | 1023 |  1111111111 |  10\n",
      "    | 1024 | 10000000000 |  11\n",
      "    | 1025 | 10000000001 |  11\n",
      "\n",
      "  Parameters:\n",
      "    Input, integer N, the integer to be measured.\n",
      "    N should be nonnegative.  If N is nonpositive, the value will always be 0.\n",
      "\n",
      "    Output, integer BIT, the number of bits base 2.\n",
      "  \"\"\"\n",
      "  i = math.floor ( n )\n",
      "  bit = 0\n",
      "  while ( 1 ):\n",
      "    if ( i <= 0 ):\n",
      "      break\n",
      "    bit += 1\n",
      "    i = math.floor ( i / 2. )\n",
      "  return bit\n",
      "\n",
      "def i4_bit_lo0 ( n ):\n",
      "  \"\"\"\n",
      "  I4_BIT_LO0 returns the position of the low 0 bit base 2 in an integer.\n",
      "\n",
      "  Example:\n",
      "    +------+------------+----\n",
      "    |    N |     Binary | BIT\n",
      "    +------+------------+----\n",
      "    |    0 |          0 |   1\n",
      "    |    1 |          1 |   2\n",
      "    |    2 |         10 |   1\n",
      "    |    3 |         11 |   3\n",
      "    |    4 |        100 |   1\n",
      "    |    5 |        101 |   2\n",
      "    |    6 |        110 |   1\n",
      "    |    7 |        111 |   4\n",
      "    |    8 |       1000 |   1\n",
      "    |    9 |       1001 |   2\n",
      "    |   10 |       1010 |   1\n",
      "    |   11 |       1011 |   3\n",
      "    |   12 |       1100 |   1\n",
      "    |   13 |       1101 |   2\n",
      "    |   14 |       1110 |   1\n",
      "    |   15 |       1111 |   5\n",
      "    |   16 |      10000 |   1\n",
      "    |   17 |      10001 |   2\n",
      "    | 1023 | 1111111111 |   1\n",
      "    | 1024 | 0000000000 |   1\n",
      "    | 1025 | 0000000001 |   1\n",
      "\n",
      "  Parameters:\n",
      "    Input, integer N, the integer to be measured.\n",
      "    N should be nonnegative.\n",
      "\n",
      "    Output, integer BIT, the position of the low 1 bit.\n",
      "  \"\"\"\n",
      "  bit = 0\n",
      "  i = math.floor ( n )\n",
      "  while ( 1 ):\n",
      "    bit = bit + 1\n",
      "    i2 = math.floor ( i / 2. )\n",
      "    if ( i == 2 * i2 ):\n",
      "      break\n",
      "\n",
      "    i = i2\n",
      "  return bit\n",
      "\n",
      "def i4_sobol_generate ( m, n, skip ):\n",
      "  \"\"\"\n",
      "  i4_sobol_generate generates a Sobol dataset.\n",
      "\n",
      "  Parameters:\n",
      "    Input, integer M, the spatial dimension.\n",
      "    Input, integer N, the number of points to generate.\n",
      "    Input, integer SKIP, the number of initial points to skip.\n",
      "\n",
      "    Output, real R(M,N), the points.\n",
      "  \"\"\"\n",
      "  r=numpy.zeros((m,n))\n",
      "  for j in xrange (1, n+1):\n",
      "    seed = skip + j - 2\n",
      "    [ r[0:m,j-1], seed ] = i4_sobol ( m, seed )\n",
      "  return r\n",
      "\n",
      "def i4_sobol ( dim_num, seed ):\n",
      "  \"\"\"\n",
      "  i4_sobol generates a new quasirandom Sobol vector with each call.\n",
      "\n",
      "  Discussion:\n",
      "    The routine adapts the ideas of Antonov and Saleev.\n",
      "\n",
      "  Reference:\n",
      "    Antonov, Saleev,\n",
      "    USSR Computational Mathematics and Mathematical Physics,\n",
      "    Volume 19, 1980, pages 252 - 256.\n",
      "\n",
      "    Paul Bratley, Bennett Fox,\n",
      "    Algorithm 659:\n",
      "    Implementing Sobol's Quasirandom Sequence Generator,\n",
      "    ACM Transactions on Mathematical Software,\n",
      "    Volume 14, Number 1, pages 88-100, 1988.\n",
      "\n",
      "    Bennett Fox,\n",
      "    Algorithm 647:\n",
      "    Implementation and Relative Efficiency of Quasirandom\n",
      "    Sequence Generators,\n",
      "    ACM Transactions on Mathematical Software,\n",
      "    Volume 12, Number 4, pages 362-376, 1986.\n",
      "\n",
      "    Ilya Sobol,\n",
      "    USSR Computational Mathematics and Mathematical Physics,\n",
      "    Volume 16, pages 236-242, 1977.\n",
      "\n",
      "    Ilya Sobol, Levitan,\n",
      "    The Production of Points Uniformly Distributed in a Multidimensional\n",
      "    Cube (in Russian),\n",
      "    Preprint IPM Akad. Nauk SSSR,\n",
      "    Number 40, Moscow 1976.\n",
      "\n",
      "  Parameters:\n",
      "    Input, integer DIM_NUM, the number of spatial dimensions.\n",
      "    DIM_NUM must satisfy 1 <= DIM_NUM <= 40.\n",
      "\n",
      "    Input/output, integer SEED, the \"seed\" for the sequence.\n",
      "    This is essentially the index in the sequence of the quasirandom\n",
      "    value to be generated.  On output, SEED has been set to the\n",
      "    appropriate next value, usually simply SEED+1.\n",
      "    If SEED is less than 0 on input, it is treated as though it were 0.\n",
      "    An input value of 0 requests the first (0-th) element of the sequence.\n",
      "\n",
      "    Output, real QUASI(DIM_NUM), the next quasirandom vector.\n",
      "  \"\"\"\n",
      "  global atmost\n",
      "  global dim_max\n",
      "  global dim_num_save\n",
      "  global initialized\n",
      "  global lastq\n",
      "  global log_max\n",
      "  global maxcol\n",
      "  global poly\n",
      "  global recipd\n",
      "  global seed_save\n",
      "  global v\n",
      "\n",
      "  if ( not 'initialized' in globals().keys() ):\n",
      "    initialized = 0\n",
      "    dim_num_save = -1\n",
      "\n",
      "  if ( not initialized or dim_num != dim_num_save ):\n",
      "    initialized = 1\n",
      "    dim_max = 40\n",
      "    dim_num_save = -1\n",
      "    log_max = 30\n",
      "    seed_save = -1\n",
      "\n",
      "#  Initialize (part of) V.\n",
      "    v = numpy.zeros((dim_max,log_max))\n",
      "    v[0:40,0] = numpy.transpose([ \\\n",
      "        1, 1, 1, 1, 1, 1, 1, 1, 1, 1, \\\n",
      "        1, 1, 1, 1, 1, 1, 1, 1, 1, 1, \\\n",
      "        1, 1, 1, 1, 1, 1, 1, 1, 1, 1, \\\n",
      "        1, 1, 1, 1, 1, 1, 1, 1, 1, 1 ])\n",
      "\n",
      "    v[2:40,1] = numpy.transpose([ \\\n",
      "        1, 3, 1, 3, 1, 3, 3, 1, \\\n",
      "        3, 1, 3, 1, 3, 1, 1, 3, 1, 3, \\\n",
      "        1, 3, 1, 3, 3, 1, 3, 1, 3, 1, \\\n",
      "        3, 1, 1, 3, 1, 3, 1, 3, 1, 3 ])\n",
      "\n",
      "    v[3:40,2] = numpy.transpose([ \\\n",
      "        7, 5, 1, 3, 3, 7, 5, \\\n",
      "        5, 7, 7, 1, 3, 3, 7, 5, 1, 1, \\\n",
      "        5, 3, 3, 1, 7, 5, 1, 3, 3, 7, \\\n",
      "        5, 1, 1, 5, 7, 7, 5, 1, 3, 3 ])\n",
      "\n",
      "    v[5:40,3] = numpy.transpose([ \\\n",
      "        1, 7, 9,13,11, \\\n",
      "        1, 3, 7, 9, 5,13,13,11, 3,15, \\\n",
      "        5, 3,15, 7, 9,13, 9, 1,11, 7, \\\n",
      "        5,15, 1,15,11, 5, 3, 1, 7, 9 ])\n",
      "\n",
      "    v[7:40,4] = numpy.transpose([ \\\n",
      "        9, 3,27, \\\n",
      "        15,29,21,23,19,11,25, 7,13,17, \\\n",
      "        1,25,29, 3,31,11, 5,23,27,19, \\\n",
      "        21, 5, 1,17,13, 7,15, 9,31, 9 ])\n",
      "\n",
      "    v[13:40,5] = numpy.transpose([ \\\n",
      "        37,33, 7, 5,11,39,63, \\\n",
      "        27,17,15,23,29, 3,21,13,31,25, \\\n",
      "        9,49,33,19,29,11,19,27,15,25 ])\n",
      "\n",
      "    v[19:40,6] = numpy.transpose([ \\\n",
      "        13, \\\n",
      "        33,115, 41, 79, 17, 29,119, 75, 73,105, \\\n",
      "        7, 59, 65, 21,  3,113, 61, 89, 45,107 ])\n",
      "\n",
      "    v[37:40,7] = numpy.transpose([ \\\n",
      "        7, 23, 39 ])\n",
      "\n",
      "#  Set POLY.\n",
      "    poly= [ \\\n",
      "        1,   3,   7,  11,  13,  19,  25,  37,  59,  47, \\\n",
      "        61,  55,  41,  67,  97,  91, 109, 103, 115, 131, \\\n",
      "        193, 137, 145, 143, 241, 157, 185, 167, 229, 171, \\\n",
      "        213, 191, 253, 203, 211, 239, 247, 285, 369, 299 ]\n",
      "\n",
      "    atmost = 2**log_max - 1\n",
      "\n",
      "#  Find the number of bits in ATMOST.\n",
      "    maxcol = i4_bit_hi1 ( atmost )\n",
      "\n",
      "#  Initialize row 1 of V.\n",
      "    v[0,0:maxcol] = 1\n",
      "\n",
      "\n",
      "#  Things to do only if the dimension changed.\n",
      "  if ( dim_num != dim_num_save ):\n",
      "\n",
      "#  Check parameters.\n",
      "    if ( dim_num < 1 or dim_max < dim_num ):\n",
      "      print 'I4_SOBOL - Fatal error!'\n",
      "      print '  The spatial dimension DIM_NUM should satisfy:'\n",
      "      print '    1 <= DIM_NUM <= %d'%dim_max\n",
      "      print '  But this input value is DIM_NUM = %d'%dim_num\n",
      "      return\n",
      "\n",
      "    dim_num_save = dim_num\n",
      "\n",
      "#  Initialize the remaining rows of V.\n",
      "    for i in xrange(2 , dim_num+1):\n",
      "\n",
      "#  The bits of the integer POLY(I) gives the form of polynomial I.\n",
      "#  Find the degree of polynomial I from binary encoding.\n",
      "      j = poly[i-1]\n",
      "      m = 0\n",
      "      while ( 1 ):\n",
      "        j = math.floor ( j / 2. )\n",
      "        if ( j <= 0 ):\n",
      "          break\n",
      "        m = m + 1\n",
      "\n",
      "#  Expand this bit pattern to separate components of the logical array INCLUD.\n",
      "      j = poly[i-1]\n",
      "      includ=numpy.zeros(m)\n",
      "      for k in xrange(m, 0, -1):\n",
      "        j2 = math.floor ( j / 2. )\n",
      "        includ[k-1] =  (j != 2 * j2 )\n",
      "        j = j2\n",
      "\n",
      "#  Calculate the remaining elements of row I as explained\n",
      "#  in Bratley and Fox, section 2.\n",
      "      for j in xrange( m+1, maxcol+1 ):\n",
      "        newv = v[i-1,j-m-1]\n",
      "        l = 1\n",
      "        for k in xrange(1, m+1):\n",
      "          l = 2 * l\n",
      "          if ( includ[k-1] ):\n",
      "            newv = numpy.bitwise_xor ( int(newv), int(l * v[i-1,j-k-1]) )\n",
      "        v[i-1,j-1] = newv\n",
      "\n",
      "#  Multiply columns of V by appropriate power of 2.\n",
      "    l = 1\n",
      "    for j in xrange( maxcol-1, 0, -1):\n",
      "      l = 2 * l\n",
      "      v[0:dim_num,j-1] = v[0:dim_num,j-1] * l\n",
      "\n",
      "#  RECIPD is 1/(common denominator of the elements in V).\n",
      "    recipd = 1.0 / ( 2 * l )\n",
      "    lastq=numpy.zeros(dim_num)\n",
      "\n",
      "  seed = int(math.floor ( seed ))\n",
      "\n",
      "  if ( seed < 0 ):\n",
      "    seed = 0\n",
      "\n",
      "  if ( seed == 0 ):\n",
      "    l = 1\n",
      "    lastq=numpy.zeros(dim_num)\n",
      "\n",
      "  elif ( seed == seed_save + 1 ):\n",
      "\n",
      "#  Find the position of the right-hand zero in SEED.\n",
      "    l = i4_bit_lo0 ( seed )\n",
      "\n",
      "  elif ( seed <= seed_save ):\n",
      "\n",
      "    seed_save = 0\n",
      "    l = 1\n",
      "    lastq=numpy.zeros(dim_num)\n",
      "\n",
      "    for seed_temp in xrange( int(seed_save), int(seed)):\n",
      "      l = i4_bit_lo0 ( seed_temp )\n",
      "      for i in xrange(1 , dim_num+1):\n",
      "        lastq[i-1] = numpy.bitwise_xor ( int(lastq[i-1]), int(v[i-1,l-1]) )\n",
      "\n",
      "    l = i4_bit_lo0 ( seed )\n",
      "\n",
      "  elif ( seed_save + 1 < seed ):\n",
      "\n",
      "    for seed_temp in xrange( int(seed_save + 1), int(seed) ):\n",
      "      l = i4_bit_lo0 ( seed_temp )\n",
      "      for i in xrange(1, dim_num+1):\n",
      "        lastq[i-1] = numpy.bitwise_xor ( int(lastq[i-1]), int(v[i-1,l-1]) )\n",
      "\n",
      "    l = i4_bit_lo0 ( seed )\n",
      "\n",
      "#  Check that the user is not calling too many times!\n",
      "  if ( maxcol < l ):\n",
      "    print 'I4_SOBOL - Fatal error!'\n",
      "    print '  Too many calls!'\n",
      "    print '  MAXCOL = %d\\n'%maxcol\n",
      "    print '  L =      %d\\n'%l\n",
      "    return\n",
      "\n",
      "#  Calculate the new components of QUASI.\n",
      "  quasi=numpy.zeros(dim_num)\n",
      "  for i in xrange( 1, dim_num+1):\n",
      "    quasi[i-1] = lastq[i-1] * recipd\n",
      "    lastq[i-1] = numpy.bitwise_xor ( int(lastq[i-1]), int(v[i-1,l-1]) )\n",
      "\n",
      "  seed_save = seed\n",
      "  seed = seed + 1\n",
      "\n",
      "  return [ quasi, seed ]\n",
      "\n",
      "def i4_uniform ( a, b, seed ):\n",
      "  \"\"\"\n",
      "  i4_uniform returns a scaled pseudorandom I4.\n",
      "\n",
      "  Discussion:\n",
      "    The pseudorandom number will be scaled to be uniformly distributed\n",
      "    between A and B.\n",
      "\n",
      "  Reference:\n",
      "    Paul Bratley, Bennett Fox, Linus Schrage,\n",
      "    A Guide to Simulation,\n",
      "    Springer Verlag, pages 201-202, 1983.\n",
      "\n",
      "    Pierre L'Ecuyer,\n",
      "    Random Number Generation,\n",
      "    in Handbook of Simulation,\n",
      "    edited by Jerry Banks,\n",
      "    Wiley Interscience, page 95, 1998.\n",
      "\n",
      "    Bennett Fox,\n",
      "    Algorithm 647:\n",
      "    Implementation and Relative Efficiency of Quasirandom\n",
      "    Sequence Generators,\n",
      "    ACM Transactions on Mathematical Software,\n",
      "    Volume 12, Number 4, pages 362-376, 1986.\n",
      "\n",
      "    Peter Lewis, Allen Goodman, James Miller\n",
      "    A Pseudo-Random Number Generator for the System/360,\n",
      "    IBM Systems Journal,\n",
      "    Volume 8, pages 136-143, 1969.\n",
      "\n",
      "  Parameters:\n",
      "    Input, integer A, B, the minimum and maximum acceptable values.\n",
      "    Input, integer SEED, a seed for the random number generator.\n",
      "\n",
      "    Output, integer C, the randomly chosen integer.\n",
      "    Output, integer SEED, the updated seed.\n",
      "  \"\"\"\n",
      "  if ( seed == 0 ):\n",
      "    print 'I4_UNIFORM - Fatal error!'\n",
      "    print '  Input SEED = 0!'\n",
      "\n",
      "  seed = math.floor ( seed )\n",
      "  a = round ( a )\n",
      "  b = round ( b )\n",
      "\n",
      "  seed = numpy.mod ( seed, 2147483647 )\n",
      "\n",
      "  if ( seed < 0 ) :\n",
      "    seed = seed + 2147483647\n",
      "\n",
      "  k = math.floor ( seed / 127773 )\n",
      "\n",
      "  seed = 16807 * ( seed - k * 127773 ) - k * 2836\n",
      "\n",
      "  if ( seed < 0 ):\n",
      "    seed = seed + 2147483647\n",
      "\n",
      "  r = seed * 4.656612875E-10\n",
      "\n",
      "#  Scale R to lie between A-0.5 and B+0.5.\n",
      "  r = ( 1.0 - r ) * ( min ( a, b ) - 0.5 ) + r * ( max ( a, b ) + 0.5 )\n",
      "\n",
      "#  Use rounding to convert R to an integer between A and B.\n",
      "  value = round ( r )\n",
      "\n",
      "  value = max ( value, min ( a, b ) )\n",
      "  value = min ( value, max ( a, b ) )\n",
      "\n",
      "  c = value\n",
      "\n",
      "  return [ int(c), int(seed) ]\n",
      "\n",
      "def prime_ge ( n ):\n",
      "  \"\"\"\n",
      "  PRIME_GE returns the smallest prime greater than or equal to N.\n",
      "\n",
      "  Example:\n",
      "    +-----+---------\n",
      "    |   N | PRIME_GE\n",
      "    +-----+---------\n",
      "    | -10 |        2\n",
      "    |   1 |        2\n",
      "    |   2 |        2\n",
      "    |   3 |        3\n",
      "    |   4 |        5\n",
      "    |   5 |        5\n",
      "    |   6 |        7\n",
      "    |   7 |        7\n",
      "    |   8 |       11\n",
      "    |   9 |       11\n",
      "    |  10 |       11\n",
      "\n",
      "  Parameters:\n",
      "    Input, integer N, the number to be bounded.\n",
      "\n",
      "    Output, integer P, the smallest prime number that is greater\n",
      "    than or equal to N.  \n",
      "  \"\"\"\n",
      "  p = max ( math.ceil ( n ), 2 )\n",
      "  while ( not is_prime ( p ) ):\n",
      "    p = p + 1\n",
      "\n",
      "  return p\n",
      "\n",
      "def is_prime(n):\n",
      "  \"\"\"\n",
      "  is_prime returns True if N is a prime number, False otherwise\n",
      "\n",
      "  Parameters:\n",
      "     Input, integer N, the number to be checked.\n",
      "\n",
      "     Output, boolean value, True or False\n",
      "  \"\"\"\n",
      "  if n!=int(n) or n<1:\n",
      "    return False\n",
      "  p=2\n",
      "  while p<n:\n",
      "    if n%p==0:\n",
      "      return False\n",
      "    p+=1\n",
      "  return True\n",
      "\n"
     ],
     "language": "python",
     "metadata": {},
     "outputs": [],
     "prompt_number": 4
    },
    {
     "cell_type": "code",
     "collapsed": false,
     "input": [],
     "language": "python",
     "metadata": {},
     "outputs": []
    }
   ],
   "metadata": {}
  }
 ]
}